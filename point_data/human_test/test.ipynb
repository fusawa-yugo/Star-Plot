{
 "cells": [
  {
   "cell_type": "code",
   "execution_count": 10,
   "metadata": {},
   "outputs": [
    {
     "name": "stdout",
     "output_type": "stream",
     "text": [
      "['Neck' 'Stomach' 'Nose' 'L_eye' 'R_eye' 'L_ear' 'R_ear' 'L_shoulder'\n",
      " 'R_shoulder' 'L_elbow' 'R_elbow' 'L_wrist' 'R_wrist' 'L_waist' 'R_waist'\n",
      " 'L_knee' 'R_knee' 'L_ankle' 'R_ankle']\n",
      "[[247. 745.]\n",
      " [258. 843.]] [[247. 745.]\n",
      " [258. 843.]\n",
      " [248. 708.]\n",
      " [256. 699.]\n",
      " [239. 700.]\n",
      " [269. 701.]\n",
      " [224. 704.]\n",
      " [289. 741.]\n",
      " [205. 749.]\n",
      " [319. 786.]\n",
      " [190. 808.]\n",
      " [314. 812.]\n",
      " [206. 849.]\n",
      " [287. 841.]\n",
      " [229. 845.]\n",
      " [315. 854.]\n",
      " [213. 856.]\n",
      " [315. 896.]\n",
      " [205. 899.]]\n"
     ]
    }
   ],
   "source": [
    "import pandas as pd\n",
    "import numpy as np\n",
    "\n",
    "df=pd.read_csv('./test_csv/person1.csv')\n",
    "\n",
    "names=df['name'].values\n",
    "x=df['x'].values\n",
    "y=df['y'].values\n",
    "p=df['p'].values\n",
    "position=np.column_stack((x,y))\n",
    "idx_Lsho=np.where(names=='L_shoulder')[0][0]\n",
    "idx_Rsho=np.where(names=='R_shoulder')[0][0]\n",
    "neck_position=(position[idx_Lsho]+position[idx_Rsho])/2\n",
    "\n",
    "idx_Lwai=np.where(names=='L_waist')[0][0]\n",
    "idx_Rwai=np.where(names=='R_waist')[0][0]\n",
    "stomach_position=(position[idx_Lwai]+position[idx_Rwai])/2\n",
    "\n",
    "new_name=np.array(['Neck','Stomach'])\n",
    "new_position=np.array([neck_position,stomach_position])\n",
    "names=np.concatenate((new_name,names))\n",
    "position=np.vstack((new_position,position))\n"
   ]
  },
  {
   "cell_type": "code",
   "execution_count": null,
   "metadata": {},
   "outputs": [],
   "source": []
  }
 ],
 "metadata": {
  "kernelspec": {
   "display_name": "env",
   "language": "python",
   "name": "python3"
  },
  "language_info": {
   "codemirror_mode": {
    "name": "ipython",
    "version": 3
   },
   "file_extension": ".py",
   "mimetype": "text/x-python",
   "name": "python",
   "nbconvert_exporter": "python",
   "pygments_lexer": "ipython3",
   "version": "3.11.5"
  }
 },
 "nbformat": 4,
 "nbformat_minor": 2
}
