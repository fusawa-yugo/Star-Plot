{
 "cells": [
  {
   "cell_type": "code",
   "execution_count": 14,
   "metadata": {},
   "outputs": [
    {
     "ename": "ImportError",
     "evalue": "cannot import name 'calc_dist' from 'function' (/Users/fusawayugo/Desktop/class/人工知能演習/ai_experiment/dot_matching/function.py)",
     "output_type": "error",
     "traceback": [
      "\u001b[0;31m---------------------------------------------------------------------------\u001b[0m",
      "\u001b[0;31mImportError\u001b[0m                               Traceback (most recent call last)",
      "\u001b[1;32m/Users/fusawayugo/Desktop/class/人工知能演習/ai_experiment/dot_matching/edge_create.ipynb セル 1\u001b[0m line \u001b[0;36m2\n\u001b[1;32m      <a href='vscode-notebook-cell:/Users/fusawayugo/Desktop/class/%E4%BA%BA%E5%B7%A5%E7%9F%A5%E8%83%BD%E6%BC%94%E7%BF%92/ai_experiment/dot_matching/edge_create.ipynb#W0sZmlsZQ%3D%3D?line=0'>1</a>\u001b[0m \u001b[39mimport\u001b[39;00m \u001b[39mpandas\u001b[39;00m \u001b[39mas\u001b[39;00m \u001b[39mpd\u001b[39;00m\n\u001b[0;32m----> <a href='vscode-notebook-cell:/Users/fusawayugo/Desktop/class/%E4%BA%BA%E5%B7%A5%E7%9F%A5%E8%83%BD%E6%BC%94%E7%BF%92/ai_experiment/dot_matching/edge_create.ipynb#W0sZmlsZQ%3D%3D?line=1'>2</a>\u001b[0m \u001b[39mfrom\u001b[39;00m \u001b[39mfunction\u001b[39;00m \u001b[39mimport\u001b[39;00m csv_to_data,calc_dist\n\u001b[1;32m      <a href='vscode-notebook-cell:/Users/fusawayugo/Desktop/class/%E4%BA%BA%E5%B7%A5%E7%9F%A5%E8%83%BD%E6%BC%94%E7%BF%92/ai_experiment/dot_matching/edge_create.ipynb#W0sZmlsZQ%3D%3D?line=2'>3</a>\u001b[0m \u001b[39mimport\u001b[39;00m \u001b[39mmatplotlib\u001b[39;00m\u001b[39m.\u001b[39;00m\u001b[39mpyplot\u001b[39;00m \u001b[39mas\u001b[39;00m \u001b[39mplt\u001b[39;00m\n\u001b[1;32m      <a href='vscode-notebook-cell:/Users/fusawayugo/Desktop/class/%E4%BA%BA%E5%B7%A5%E7%9F%A5%E8%83%BD%E6%BC%94%E7%BF%92/ai_experiment/dot_matching/edge_create.ipynb#W0sZmlsZQ%3D%3D?line=3'>4</a>\u001b[0m \u001b[39mimport\u001b[39;00m \u001b[39mnumpy\u001b[39;00m \u001b[39mas\u001b[39;00m \u001b[39mnp\u001b[39;00m\n",
      "\u001b[0;31mImportError\u001b[0m: cannot import name 'calc_dist' from 'function' (/Users/fusawayugo/Desktop/class/人工知能演習/ai_experiment/dot_matching/function.py)"
     ]
    }
   ],
   "source": [
    "import pandas as pd\n",
    "from function import csv_to_data,calc_dist\n",
    "import matplotlib.pyplot as plt\n",
    "import numpy as np"
   ]
  },
  {
   "cell_type": "markdown",
   "metadata": {},
   "source": []
  },
  {
   "cell_type": "code",
   "execution_count": 13,
   "metadata": {},
   "outputs": [
    {
     "name": "stdout",
     "output_type": "stream",
     "text": [
      "[[ 1.06235437e+00  3.88774061e-02  2.07000000e+00  6.77000000e+02]\n",
      " [ 5.37999571e-01  2.15299203e-02  2.28000000e+00  7.46000000e+02]\n",
      " [ 1.30361613e+00  7.53562684e-02  2.83000000e+00  1.06700000e+03]\n",
      " ...\n",
      " [ 1.46693934e+00 -1.28770555e-01  4.13000000e+00  1.16771000e+05]\n",
      " [ 1.53499330e+00 -1.20581957e-01  4.49000000e+00  1.16928000e+05]\n",
      " [ 1.45099743e+00 -4.43183324e-03  4.03000000e+00  1.18268000e+05]]\n"
     ]
    }
   ],
   "source": [
    "#north\n",
    "x,y,lum,HIPnum=csv_to_data('../star_data/north.csv')\n",
    "data = np.column_stack((x,y,lum,HIPnum))\n",
    "position=np.column_stack((x,y))\n",
    "edge_dist={}\n",
    "for i in range(len(data)):\n",
    "    edge_dist[HIPnum[i]]=[]\n",
    "    for j in range(len(data)):\n",
    "        if i==j:\n",
    "            continue\n",
    "        \n",
    "\n",
    "\n"
   ]
  },
  {
   "cell_type": "code",
   "execution_count": null,
   "metadata": {},
   "outputs": [],
   "source": []
  }
 ],
 "metadata": {
  "kernelspec": {
   "display_name": "env",
   "language": "python",
   "name": "python3"
  },
  "language_info": {
   "codemirror_mode": {
    "name": "ipython",
    "version": 3
   },
   "file_extension": ".py",
   "mimetype": "text/x-python",
   "name": "python",
   "nbconvert_exporter": "python",
   "pygments_lexer": "ipython3",
   "version": "3.11.5"
  }
 },
 "nbformat": 4,
 "nbformat_minor": 2
}
